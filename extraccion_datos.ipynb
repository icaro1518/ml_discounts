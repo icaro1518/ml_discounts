{
 "cells": [
  {
   "cell_type": "code",
   "execution_count": 1,
   "metadata": {},
   "outputs": [],
   "source": [
    "from pathlib import Path\n",
    "from scripts.data.data_acquisition import DataAcquisition"
   ]
  },
  {
   "cell_type": "code",
   "execution_count": 3,
   "metadata": {},
   "outputs": [],
   "source": [
    "PATH_DATA = Path(\"data\")\n",
    "\n",
    "data = DataAcquisition(path_data = PATH_DATA)\n",
    "# En caso de requerir continuar con la ejecución del proceso\n",
    "# desde cierta categoría en específico, se puede hacer uso\n",
    "# del siguiente código para eliminar las categorías ya procesadas\n",
    "# last_cat_index = prueba.cats[prueba.cats[\"id\"]==\"MCO40433\"].index[0]\n",
    "# prueba.cats = prueba.cats[prueba.cats.index >= last_cat_index]\n",
    "\n",
    "# 41 minutos\n",
    "data.get_all_items_cats(0, 3950)"
   ]
  }
 ],
 "metadata": {
  "kernelspec": {
   "display_name": "ml_discounts",
   "language": "python",
   "name": "python3"
  },
  "language_info": {
   "codemirror_mode": {
    "name": "ipython",
    "version": 3
   },
   "file_extension": ".py",
   "mimetype": "text/x-python",
   "name": "python",
   "nbconvert_exporter": "python",
   "pygments_lexer": "ipython3",
   "version": "3.9.18"
  }
 },
 "nbformat": 4,
 "nbformat_minor": 2
}
